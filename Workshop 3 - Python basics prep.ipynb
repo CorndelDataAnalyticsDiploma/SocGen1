{
 "cells": [
  {
   "cell_type": "code",
   "execution_count": null,
   "metadata": {
    "collapsed": true
   },
   "outputs": [],
   "source": [
    "## INTRO\n",
    "## WELCOME TO THE FIRST JUPYTER NOTEBOOK OF THE CORNDEL ANALYTICS DIPLOMA\n",
    "\n",
    "# First let's take the time to familiarise yourself with the layout...\n",
    "#  - a Jupyter Notebook is divided into cells (boxes)\n",
    "#  - in this workbook, we have titled cells\n",
    "#  - for example, the title of this cell is \"INTRO\"\n",
    "#  - at the top are buttons that are used to:\n",
    "#      - save progress;\n",
    "#      - add a new cell;\n",
    "#      - cut/copy/paste cells;\n",
    "#      - move cells up/down in the running order;\n",
    "#      - run code;\n",
    "#      - stop code;\n",
    "#      - resart the kernel; and\n",
    "#      - choose whether the cell should be used as markdown or to write code.\n",
    "\n",
    "# The current cell is set up for writing code but we have used it exclusively for comments\n",
    "# Comments are lines of text that don't actually do anything\n",
    "# We use the '#' symbol to indicate to the machine when we want text to be a comment\n",
    "\n",
    "# The next cell is set up as 'markdown'\n",
    "# This means that it looks like a heading rather than a block of code"
   ]
  },
  {
   "cell_type": "markdown",
   "metadata": {},
   "source": [
    "## Data Types"
   ]
  },
  {
   "cell_type": "code",
   "execution_count": null,
   "metadata": {
    "collapsed": true
   },
   "outputs": [],
   "source": [
    "## ASSIGNING A VARIABLE\n",
    "# Let's create a new variable and set its value as 1\n",
    "my_first_variable = 1"
   ]
  },
  {
   "cell_type": "code",
   "execution_count": null,
   "metadata": {
    "collapsed": true
   },
   "outputs": [],
   "source": [
    "## ID FUNCTION\n",
    "# The id() function tells me what ID Python is using to refer to this variable\n",
    "id(my_first_variable)"
   ]
  },
  {
   "cell_type": "code",
   "execution_count": null,
   "metadata": {
    "collapsed": true
   },
   "outputs": [],
   "source": [
    "## TYPE FUNCTION\n",
    "# The type() function tells me what data type it contains\n",
    "type(my_first_variable)"
   ]
  },
  {
   "cell_type": "code",
   "execution_count": 6,
   "metadata": {
    "collapsed": true
   },
   "outputs": [],
   "source": [
    "# ** Task 1 ** #\n",
    "# In the space provided create a new variable called 'my_new_variable' and set its value equal to 2\n",
    "# --------------------------------------------------- #\n",
    "\n",
    "my_new_variable = 2\n",
    "\n",
    "# --------------------------------------------------- #"
   ]
  },
  {
   "cell_type": "code",
   "execution_count": null,
   "metadata": {
    "collapsed": true
   },
   "outputs": [],
   "source": [
    "## THE DATA TYPES\n",
    "# There are 6 main data types that we use in Python.\n",
    "# In this workshop, we will concentrate on only three types: numbers, strings, lists\n",
    "# We have also shown some examples of the other 3 types below but we will not need these\n",
    "\n",
    "# numbers:\n",
    "a = 4\n",
    "a = 5.8\n",
    "\n",
    "# strings\n",
    "a = 'a string using single quotes'\n",
    "a = \"a string using double quotes\"\n",
    "a = \"\"\"a sting using\n",
    "       three double\n",
    "       quotes\"\"\"\n",
    "\n",
    "# lists\n",
    "a = [4,5.8,'a string']\n",
    "\n",
    "# tuples\n",
    "# a = (4,5.8,'a string using single quotes')\n",
    "\n",
    "# dictionaries\n",
    "# a = {'key1':25, 'key2':8}\n",
    "# a = {'key1':'large', 'key2':'small'}\n",
    "\n",
    "# files (the code below doesn't work because the file does not exist)\n",
    "# a = open('test.csv',r')"
   ]
  },
  {
   "cell_type": "code",
   "execution_count": 26,
   "metadata": {
    "collapsed": true
   },
   "outputs": [],
   "source": [
    "# ** Task 2 ** #\n",
    "# In the space provided create:\n",
    "#  - a variable called 't2_int' containing an integer\n",
    "#  - a variable called 't2_float' containing a non-integer numeric value\n",
    "#  - a variable called 't2_string' containing a string of at least 20 characters\n",
    "#  - a variable called 't2_list' containing exactly 5 elements\n",
    "# --------------------------------------------------- #\n",
    "\n",
    "t2_int    = 5\n",
    "t2_float  = 1\n",
    "t2_string = 'Took my chevy to the levy but the levy was dry'\n",
    "t2_list   = [4, 4, 4, 4, 4]\n",
    "\n",
    "# --------------------------------------------------- #"
   ]
  },
  {
   "cell_type": "code",
   "execution_count": 28,
   "metadata": {
    "collapsed": true
   },
   "outputs": [],
   "source": [
    "# ** Task 3 ** #\n",
    "# Give t2_float a new value so that it has the string data type\n",
    "# --------------------------------------------------- #\n",
    "\n",
    "t2_float  = 'now it is a string'\n",
    "\n",
    "# --------------------------------------------------- #"
   ]
  },
  {
   "cell_type": "markdown",
   "metadata": {
    "collapsed": true
   },
   "source": [
    "## Expressions & Statements"
   ]
  },
  {
   "cell_type": "code",
   "execution_count": 32,
   "metadata": {},
   "outputs": [
    {
     "data": {
      "text/plain": [
       "100"
      ]
     },
     "execution_count": 32,
     "metadata": {},
     "output_type": "execute_result"
    }
   ],
   "source": [
    "## EXPRESSIONS & STATEMENTS\n",
    "# An expression is a combination of values, variables and operators\n",
    "#  - e.g. \"6 + 8\" is an expression\n",
    "# An expression by itself does not anything,\n",
    "#  although Python will usually display the value of the last expression listed in the code\n",
    "\n",
    "# A statement, or command, is a unit of code that can be executed by the Python interpreter\n",
    "#  - e.g. \"a = 6 + 8\" is a statement\n",
    "\n",
    "a = 5 - 9   # This is a statement and will be executed by the interpreter\n",
    "99 / 23     # This expression will not be displayed\n",
    "56 + 44     # This expression will be displayed"
   ]
  },
  {
   "cell_type": "code",
   "execution_count": 34,
   "metadata": {},
   "outputs": [
    {
     "name": "stdout",
     "output_type": "stream",
     "text": [
      "-4\n",
      "2.25\n",
      "100\n"
     ]
    }
   ],
   "source": [
    "## PRINT FUNCTION\n",
    "# We can also use the print fucntion, which acts as a statement, to display values\n",
    "print(a)\n",
    "print(90 / 40)\n",
    "print(56 + 44)"
   ]
  },
  {
   "cell_type": "code",
   "execution_count": null,
   "metadata": {
    "collapsed": true
   },
   "outputs": [],
   "source": [
    "## OPERATORS IN PYTHON\n",
    "\n",
    "# Mathematical operators: +, -, *, /, //, %\n",
    "a = 6 + 8\n",
    "b = 14 / 2\n",
    "c = 7 % 5\n",
    "d = 14 // 4\n",
    "\n",
    "# String operators: +, *\n",
    "e = 'E'\n",
    "f = 'F'\n",
    "g = 'E' + 'F'\n",
    "h = 'F' * 3\n",
    "i = 'F' * a\n",
    "\n",
    "# Comparison operators: ==, !=, <, >, <=, >=\n",
    "a == b + 7\n",
    "a < c\n",
    "d >= a\n",
    "g == 'FE'\n",
    "\n",
    "# Logical operators: and, &, or, |, not\n",
    "(14 == 7 + 7) and (3 == 6 / 2)\n",
    "(5 == 2 + 7) & (3 == 6 / 2)\n",
    "(5 == 2 + 3) or (g == 'FE')\n",
    "(5 == b + 5) | (g == 'FE')\n",
    "not (g == 'FE')"
   ]
  },
  {
   "cell_type": "code",
   "execution_count": 45,
   "metadata": {
    "collapsed": true
   },
   "outputs": [],
   "source": [
    "# ** Task 4 ** #\n",
    "# Experiment with each type of operator. Can you work out what they all do?"
   ]
  },
  {
   "cell_type": "code",
   "execution_count": 53,
   "metadata": {
    "collapsed": true
   },
   "outputs": [],
   "source": [
    "# ** Task 5 ** #\n",
    "# Use variables x, y, z respectively to contain the answers to the following calculations:\n",
    "#  x - 700 / 699\n",
    "#  y - The remainder when 999900001111 is divided by 901\n",
    "#  z - The string '5' repeated 137 times\n",
    "# --------------------------------------------------- #\n",
    "\n",
    "x  = 700 / 699\n",
    "y  = 999900001111 % 901\n",
    "z  = '5' * 137\n",
    "\n",
    "# --------------------------------------------------- #"
   ]
  },
  {
   "cell_type": "markdown",
   "metadata": {},
   "source": [
    "## Some simple methods and functions"
   ]
  },
  {
   "cell_type": "code",
   "execution_count": null,
   "metadata": {
    "collapsed": true
   },
   "outputs": [],
   "source": [
    "## PRINT\n",
    "# The print() function outputs a value to be displayed within the Jupyter Notebook\n",
    "\n",
    "print('This is some text')\n",
    "a = 'This is some more text'\n",
    "print(a)"
   ]
  },
  {
   "cell_type": "code",
   "execution_count": null,
   "metadata": {
    "collapsed": true
   },
   "outputs": [],
   "source": [
    "## INDEXING\n",
    "# We can refer to the Nth element in a list or tuple by using square brackets []\n",
    "\n",
    "my_list = [4,5.8,'a string using single quotes']\n",
    "print(my_list[0])\n",
    "print(my_list[1])\n",
    "print(my_list[0:2])\n",
    "print(my_list[0:3])\n",
    "print(my_list[2][2:8])"
   ]
  },
  {
   "cell_type": "code",
   "execution_count": 48,
   "metadata": {},
   "outputs": [
    {
     "name": "stdout",
     "output_type": "stream",
     "text": [
      "10011001\n"
     ]
    }
   ],
   "source": [
    "## CHANGING DATA TYPE\n",
    "# We can change a variable from one type to another using the following functions:\n",
    "#  - str()\n",
    "#  - float()\n",
    "#  - int()\n",
    "\n",
    "# For example:\n",
    "a = str(1001)\n",
    "print(a*2)"
   ]
  },
  {
   "cell_type": "code",
   "execution_count": 47,
   "metadata": {},
   "outputs": [
    {
     "name": "stdout",
     "output_type": "stream",
     "text": [
      "10\n"
     ]
    }
   ],
   "source": [
    "# Another example\n",
    "a = int(5.55)\n",
    "print(a*2)"
   ]
  },
  {
   "cell_type": "code",
   "execution_count": 49,
   "metadata": {},
   "outputs": [
    {
     "name": "stdout",
     "output_type": "stream",
     "text": [
      "109.0\n"
     ]
    }
   ],
   "source": [
    "# And another example\n",
    "a = float('5'+'4.5')\n",
    "print(a*2)"
   ]
  },
  {
   "cell_type": "code",
   "execution_count": 51,
   "metadata": {},
   "outputs": [],
   "source": [
    "## CHECK FUNCTION\n",
    "congrats_list = ['Boom! Well done','You got it right','100% correct','Excellent','You are the best.']\n",
    "\n",
    "def congrats(i):\n",
    "    print(congrats_list[i%5])\n",
    "\n",
    "def check(q_num):\n",
    "    \n",
    "    if q_num == 1:\n",
    "        try:\n",
    "            if my_new_variable == 2:\n",
    "                congrats(q_num)\n",
    "            else:\n",
    "                print('not quite')\n",
    "        except:\n",
    "            print('not quite')\n",
    "            \n",
    "    elif q_num == 2:\n",
    "        try:\n",
    "            counter = 0\n",
    "            if type(t2_int) == int:\n",
    "                print('t2_int is correct')\n",
    "                counter += 1\n",
    "            if type(t2_float) == float:\n",
    "                print('t2_float is correct')\n",
    "                counter += 1\n",
    "            if (type(t2_string) == str) & (len(t2_string) >= 20):\n",
    "                print('t2_string is correct')\n",
    "                counter += 1\n",
    "            if (type(t2_list) == list) & (len(t2_list) == 5):\n",
    "                print('t2_list is correct')\n",
    "                counter += 1\n",
    "            if counter == 4:\n",
    "                congrats(q_num)\n",
    "            else:\n",
    "                print('not quite')\n",
    "        except:\n",
    "            print('not quite')\n",
    "    \n",
    "    elif q_num == 3:\n",
    "        try:\n",
    "            if type(t2_float) == str:\n",
    "                congrats(q_num)\n",
    "            else:\n",
    "                print('not quite')\n",
    "        except:\n",
    "            print('not quite')\n",
    "    \n",
    "    elif q_num == 4:\n",
    "        print('this is an exploratory task, there is no right/wrong')\n",
    "            \n",
    "    elif q_num == 5:\n",
    "        try:\n",
    "            counter = 0\n",
    "            if x == 700 / 699:\n",
    "                print('x is correct')\n",
    "                counter += 1\n",
    "            if y == 999900001111 % 901:\n",
    "                print('y is correct')\n",
    "                counter += 1\n",
    "            if z == '5' * 137:\n",
    "                print('z is correct')\n",
    "                counter += 1\n",
    "            if counter == 3:\n",
    "                congrats(q_num)\n",
    "            else:\n",
    "                print('not quite')\n",
    "        except:\n",
    "            print('not quite')\n",
    "            \n",
    "    elif q_num == 6:\n",
    "        try:\n",
    "            counter = 0\n",
    "            if x == str(700 / 699):\n",
    "                print('x_new is correct')\n",
    "                counter += 1\n",
    "            if y == float(999900001111 % 901):\n",
    "                print('y_new is correct')\n",
    "                counter += 1\n",
    "            if z == int('5' * 137) / 5:\n",
    "                print('z_new is correct')\n",
    "                counter += 1\n",
    "            if counter == 3:\n",
    "                congrats(q_num)\n",
    "            else:\n",
    "                print('not quite')\n",
    "        except:\n",
    "            print('not quite')\n",
    "            \n",
    "    else:\n",
    "        print('that task number does not exist')\n",
    "    \n",
    "    elif q_num == 7:\n",
    "        print('this is an exploratory task, there is no right/wrong')"
   ]
  },
  {
   "cell_type": "code",
   "execution_count": 54,
   "metadata": {},
   "outputs": [],
   "source": [
    "# ** Task 6 ** #\n",
    "# Earlier, we created three variables 'x', 'y', 'z'. We will use them for this task.\n",
    "# Run check(5) to make sure that they still have the right values.\n",
    "#  - create a variable called 'new_x' which contains 'x' but converted to string type\n",
    "#  - create a variable called 'new_y' which contains 'y' but converted to float type\n",
    "#  - create a variable called 'new_z' which contains 'z' but converted to integer type and then divided by 5\n",
    "# --------------------------------------------------- #\n",
    "\n",
    "new_x = str(x)\n",
    "new_y = float(y)\n",
    "new_z = int(z) / 5\n",
    "\n",
    "# --------------------------------------------------- #"
   ]
  },
  {
   "cell_type": "code",
   "execution_count": 56,
   "metadata": {
    "collapsed": true
   },
   "outputs": [],
   "source": [
    "# ** Task 7 ** #\n",
    "# Can you find values which produce an error when used inside the int(), float(), and str() functions?"
   ]
  },
  {
   "cell_type": "code",
   "execution_count": null,
   "metadata": {
    "collapsed": true
   },
   "outputs": [],
   "source": [
    "LIST Task"
   ]
  },
  {
   "cell_type": "code",
   "execution_count": 55,
   "metadata": {
    "collapsed": true
   },
   "outputs": [],
   "source": [
    "# ** Task 8 ** #\n",
    "# A variable called 'long_string' is created below, and is assigned a value.\n",
    "# Use the space provided to create a new variable called 'one_letter'\n",
    "#  that contains the 56th letter in the string.\n",
    "\n",
    "long_string = \"\"\"sdkljafvvv asdfasldkfnmsd 'sgset#'43t/gdsvp,lqw3fv\n",
    "                 24p-0[vf;sdf.q234sv'/ew4/6,h-n sd;1]sdfgvk,gv944ej\n",
    "                 lllppppe342fvsdk1nnnnnasdf''//;##af2lwr5ds#''#sd'd\"\"\"\n",
    "\n",
    "# --------------------------------------------------- #\n",
    "\n",
    "one_letter = long_string[55]\n",
    "\n",
    "# --------------------------------------------------- #"
   ]
  },
  {
   "cell_type": "markdown",
   "metadata": {},
   "source": [
    "## Pseudo code"
   ]
  },
  {
   "cell_type": "code",
   "execution_count": null,
   "metadata": {
    "collapsed": true
   },
   "outputs": [],
   "source": [
    "## PSEUDO CODE\n",
    "# Pseudo code is a false code or a representation of code which can be\n",
    "#   understood by even a layman with some school level programming knowledge\n",
    "\n",
    "## -------------------------------------------------------------------- ##\n",
    "\n",
    "# CODE 1\n",
    "Set N equal to 12\n",
    "Set A equal to 1\n",
    "Set I equal to 1\n",
    "\n",
    "For as long as I is less than or equal to N, do the following steps:\n",
    "    Set A equal to itself multiplied by I\n",
    "    Increase the value of I by 1\n",
    "    \n",
    "Print the value of A\n",
    "\n",
    "## -------------------------------------------------------------------- ##\n",
    "\n",
    "# CODE 2\n",
    "\n",
    "Whenever he keyword \"CompInt\" is written, complete the following steps for three inputs, B, I, and T:\n",
    "\n",
    "    Set MULTIPLIER equal to 1 plus I\n",
    "    Set TOTAL_MULTIPLIER equal to MULTIPLIER to the power of T\n",
    "    Set FINAL_OUTPUT equal to B multiplied by TOTAL_MULTIPLIER\n",
    "    \n",
    "    Print the value of FINAL_OUTPUT \n",
    "\n",
    "CompInt for B = 100, I = 10, T = 3\n",
    "\n",
    "## -------------------------------------------------------------------- ##\n",
    "\n",
    "# CODE 3\n",
    "Set START equal to 11\n",
    "Set END equal to 25\n",
    "\n",
    "For all integers (I) between START and END, inclusive, complete the following steps:\n",
    "\n",
    "    If the value I is greater than 1, then do the following steps:\n",
    "    \n",
    "        For all integers (J) less than I, complete the following steps:\n",
    "            If I is divisible by J then continue\n",
    "            Otherwise stop and do not follow any more steps\n",
    "\n",
    "        Print the value of I\n",
    "\n",
    "## -------------------------------------------------------------------- ##"
   ]
  },
  {
   "cell_type": "code",
   "execution_count": null,
   "metadata": {
    "collapsed": true
   },
   "outputs": [],
   "source": [
    "## TASK\n",
    "\n",
    "# 1. Look at the three pieces of pseudo-code above, what does each do?"
   ]
  },
  {
   "cell_type": "markdown",
   "metadata": {},
   "source": [
    "###### 105 mins"
   ]
  },
  {
   "cell_type": "markdown",
   "metadata": {
    "collapsed": true
   },
   "source": [
    "## IF statements and FOR loops"
   ]
  },
  {
   "cell_type": "code",
   "execution_count": null,
   "metadata": {
    "collapsed": true
   },
   "outputs": [],
   "source": [
    "## IF STATEMENTS\n",
    "# If statements are used to divide code into separate blocks\n",
    "# which are only run f a specified condition is True\n",
    "\n",
    "test_integer = 169\n",
    "test_divisor = 13\n",
    "\n",
    "if test_integer % test_divisor == 0:\n",
    "    print(str(test_integer)+' divides '+str(test_divisor))\n",
    "\n",
    "elif test_integer % 11 == 0:\n",
    "    print(str(test_integer)+' divides 11')\n",
    "    \n",
    "else:\n",
    "    print(str(test_integer)+' does not divide either 11 or '+str(test_divisor))\n",
    "\n",
    "# Note who we used indentation (the tab key) to diffentiate\n",
    "# blocks of code that are dependent on an IF statement"
   ]
  },
  {
   "cell_type": "code",
   "execution_count": null,
   "metadata": {
    "collapsed": true
   },
   "outputs": [],
   "source": [
    "## FOR STATEMENTS\n",
    "# For statements are used to loop through values and perform a block of code\n",
    "# sequentially for each value\n",
    "\n",
    "test_string = \"The for loop below will print each letter of this string individually\"\n",
    "\n",
    "for i in range(0,len(test_string)):\n",
    "    print(test_string[i])\n",
    "\n",
    "# Note who we used indentation (the tab key) to diffentiate\n",
    "# blocks of code that are executed within a FOR loop"
   ]
  },
  {
   "cell_type": "markdown",
   "metadata": {},
   "source": [
    "## Exercises"
   ]
  },
  {
   "cell_type": "code",
   "execution_count": null,
   "metadata": {
    "collapsed": true
   },
   "outputs": [],
   "source": [
    "## TASKS\n",
    "\n",
    "# 1. Write some code which checks the string \"String\" starts\n",
    "#    with a specfied letter and prints \"True\" if it does\n",
    "\n",
    "# 2. Write some code which loops through and prints every even number\n",
    "#    between two specified numbers (you do not need an IF statement)\n",
    "\n",
    "# 3. Convert the three orginal pieces of pseudo-code into Python code\n",
    "\n",
    "# 4. Write some code which checks whether a string is a palindrome\n",
    "#    Palindrome means that it reads the same forwards as it does backwards\n",
    "\n",
    "# 5. The largest palindromic number made from multiplying two 2-digit numbers is 9009 (= 91 x 99)\n",
    "#    Find the largest palindromic number made from multiplying two 3-digit numbers\n",
    "\n",
    "# 6. Write code which randomly simulates a knock-out tournament between 8 participants\n",
    "#    you might need to import the random package, as shown below"
   ]
  },
  {
   "cell_type": "markdown",
   "metadata": {},
   "source": [
    "###### 180 mins"
   ]
  },
  {
   "cell_type": "markdown",
   "metadata": {},
   "source": [
    "## Importing a package"
   ]
  },
  {
   "cell_type": "code",
   "execution_count": 9,
   "metadata": {},
   "outputs": [
    {
     "name": "stdout",
     "output_type": "stream",
     "text": [
      "5\n",
      "7\n",
      "E\n",
      "0.2730325130574103\n"
     ]
    }
   ],
   "source": [
    "## IMPORT RANDOM\n",
    "# Python has many in-built packages for particular purposes\n",
    "# But these packages are not automatically available when you start Python\n",
    "# You need to import the package first\n",
    "\n",
    "# The code below imports a package called \"random\"\n",
    "import random\n",
    "\n",
    "# The random package has several functions including the following:\n",
    "a = random.randint(1, 100)\n",
    "b = random.randrange(1, 9, step = 2)\n",
    "c = random.choice(['A','E','I','O','U'])\n",
    "d = random.random()\n",
    "\n",
    "print(a)\n",
    "print(b)\n",
    "print(c)\n",
    "print(d)"
   ]
  },
  {
   "cell_type": "code",
   "execution_count": 5,
   "metadata": {},
   "outputs": [
    {
     "name": "stdout",
     "output_type": "stream",
     "text": [
      "0.7237903163141205\n"
     ]
    }
   ],
   "source": [
    "# We can also import the package with an alias to simplify the code:\n",
    "import random as rd\n",
    "print(rd.random())"
   ]
  },
  {
   "cell_type": "code",
   "execution_count": null,
   "metadata": {
    "collapsed": true
   },
   "outputs": [],
   "source": [
    "## TASKS\n",
    "\n",
    "# 1. Work out what each of the random functions listed above does\n",
    "# 2. Which might be useful when simulating a knock-out tournament"
   ]
  }
 ],
 "metadata": {
  "kernelspec": {
   "display_name": "Python 3",
   "language": "python",
   "name": "python3"
  },
  "language_info": {
   "codemirror_mode": {
    "name": "ipython",
    "version": 3
   },
   "file_extension": ".py",
   "mimetype": "text/x-python",
   "name": "python",
   "nbconvert_exporter": "python",
   "pygments_lexer": "ipython3",
   "version": "3.6.6"
  }
 },
 "nbformat": 4,
 "nbformat_minor": 2
}
