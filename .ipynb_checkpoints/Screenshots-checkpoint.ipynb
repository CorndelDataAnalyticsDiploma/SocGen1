{
 "cells": [
  {
   "cell_type": "code",
   "execution_count": 1,
   "metadata": {},
   "outputs": [
    {
     "name": "stdout",
     "output_type": "stream",
     "text": [
      "6\n"
     ]
    }
   ],
   "source": [
    "list_of_colours = ['red','blue','yellow','purple','green','orange']\n",
    "length_of_list = len(list_of_colours)\n",
    "print(length_of_list)"
   ]
  },
  {
   "cell_type": "code",
   "execution_count": 2,
   "metadata": {},
   "outputs": [],
   "source": [
    "save_value = list_of_colours[2]\n",
    "list_of_colours[2] = list_of_colours[4]\n",
    "list_of_colours[4] = save_value"
   ]
  },
  {
   "cell_type": "code",
   "execution_count": 3,
   "metadata": {},
   "outputs": [
    {
     "name": "stdout",
     "output_type": "stream",
     "text": [
      "red\n",
      "blue\n",
      "green\n",
      "purple\n",
      "yellow\n",
      "orange\n"
     ]
    }
   ],
   "source": [
    "for i in list_of_colours:\n",
    "    print(i)"
   ]
  },
  {
   "cell_type": "code",
   "execution_count": 4,
   "metadata": {},
   "outputs": [],
   "source": [
    "a = 2           # we have assigned a value of 2 to the variable 'a'\n",
    "b = 'hello'     # we have assigned a value of 'hello' to the variable 'b'"
   ]
  },
  {
   "cell_type": "code",
   "execution_count": 5,
   "metadata": {},
   "outputs": [
    {
     "name": "stdout",
     "output_type": "stream",
     "text": [
      "2\n",
      "hello\n"
     ]
    }
   ],
   "source": [
    "print(a)\n",
    "print(b)"
   ]
  },
  {
   "cell_type": "code",
   "execution_count": 6,
   "metadata": {},
   "outputs": [
    {
     "data": {
      "text/plain": [
       "140716899341152"
      ]
     },
     "execution_count": 6,
     "metadata": {},
     "output_type": "execute_result"
    }
   ],
   "source": [
    "id(a)"
   ]
  },
  {
   "cell_type": "code",
   "execution_count": 7,
   "metadata": {},
   "outputs": [
    {
     "data": {
      "text/plain": [
       "2776926375304"
      ]
     },
     "execution_count": 7,
     "metadata": {},
     "output_type": "execute_result"
    }
   ],
   "source": [
    "id(b)"
   ]
  },
  {
   "cell_type": "code",
   "execution_count": 8,
   "metadata": {},
   "outputs": [
    {
     "data": {
      "text/plain": [
       "int"
      ]
     },
     "execution_count": 8,
     "metadata": {},
     "output_type": "execute_result"
    }
   ],
   "source": [
    "type(a)"
   ]
  },
  {
   "cell_type": "code",
   "execution_count": 9,
   "metadata": {},
   "outputs": [
    {
     "data": {
      "text/plain": [
       "str"
      ]
     },
     "execution_count": 9,
     "metadata": {},
     "output_type": "execute_result"
    }
   ],
   "source": [
    "type(b)"
   ]
  },
  {
   "cell_type": "code",
   "execution_count": 10,
   "metadata": {},
   "outputs": [],
   "source": [
    "string_data = 'here is your text'\n",
    "string_data = \"here is your text\"\n",
    "string_data = \"\"\"here\n",
    "                 is your\n",
    "                 text\"\"\""
   ]
  },
  {
   "cell_type": "code",
   "execution_count": 11,
   "metadata": {},
   "outputs": [
    {
     "ename": "SyntaxError",
     "evalue": "invalid syntax (<ipython-input-11-955562ac1be3>, line 1)",
     "output_type": "error",
     "traceback": [
      "\u001b[1;36m  File \u001b[1;32m\"<ipython-input-11-955562ac1be3>\"\u001b[1;36m, line \u001b[1;32m1\u001b[0m\n\u001b[1;33m    string_data = 'here's your text'  # The apostrophe has confused the Python interpreter\u001b[0m\n\u001b[1;37m                        ^\u001b[0m\n\u001b[1;31mSyntaxError\u001b[0m\u001b[1;31m:\u001b[0m invalid syntax\n"
     ]
    }
   ],
   "source": [
    "string_data = 'here's your text'  # The apostrophe has confused the Python interpreter"
   ]
  },
  {
   "cell_type": "code",
   "execution_count": 12,
   "metadata": {},
   "outputs": [
    {
     "name": "stdout",
     "output_type": "stream",
     "text": [
      "a\n",
      "u\n",
      "abcde\n",
      "ijkl\n",
      "wxyz\n",
      "abcd\n"
     ]
    }
   ],
   "source": [
    "z = 'abcdefghijklmnopqrstuvwxyz'\n",
    "\n",
    "print(z[0])       # Letter 1\n",
    "print(z[20])      # Letter 19\n",
    "print(z[0:5])     # Letters 1-5\n",
    "print(z[8:12])    # Letters 9-12\n",
    "print(z[22:])     # All letters from 23 onwards\n",
    "print(z[:4])      # All letters until 4"
   ]
  },
  {
   "cell_type": "code",
   "execution_count": 13,
   "metadata": {},
   "outputs": [],
   "source": [
    "string_var = '65'\n",
    "float_var  = 12.4\n",
    "int_var    = 91"
   ]
  },
  {
   "cell_type": "code",
   "execution_count": 14,
   "metadata": {},
   "outputs": [
    {
     "data": {
      "text/plain": [
       "'12.4'"
      ]
     },
     "execution_count": 14,
     "metadata": {},
     "output_type": "execute_result"
    }
   ],
   "source": [
    "str(float_var)     # Converting a float into a string"
   ]
  },
  {
   "cell_type": "code",
   "execution_count": 15,
   "metadata": {},
   "outputs": [
    {
     "data": {
      "text/plain": [
       "'91'"
      ]
     },
     "execution_count": 15,
     "metadata": {},
     "output_type": "execute_result"
    }
   ],
   "source": [
    "str(int_var)       # Converting an integer into a string"
   ]
  },
  {
   "cell_type": "code",
   "execution_count": 16,
   "metadata": {},
   "outputs": [
    {
     "data": {
      "text/plain": [
       "65.0"
      ]
     },
     "execution_count": 16,
     "metadata": {},
     "output_type": "execute_result"
    }
   ],
   "source": [
    "float(string_var)  # Converting a float into a string"
   ]
  },
  {
   "cell_type": "code",
   "execution_count": 17,
   "metadata": {},
   "outputs": [
    {
     "data": {
      "text/plain": [
       "91.0"
      ]
     },
     "execution_count": 17,
     "metadata": {},
     "output_type": "execute_result"
    }
   ],
   "source": [
    "float(int_var)     # Converting an integer into a string"
   ]
  },
  {
   "cell_type": "code",
   "execution_count": 18,
   "metadata": {},
   "outputs": [
    {
     "data": {
      "text/plain": [
       "65"
      ]
     },
     "execution_count": 18,
     "metadata": {},
     "output_type": "execute_result"
    }
   ],
   "source": [
    "int(string_var)    # Converting a float into a string"
   ]
  },
  {
   "cell_type": "code",
   "execution_count": 19,
   "metadata": {},
   "outputs": [
    {
     "data": {
      "text/plain": [
       "12"
      ]
     },
     "execution_count": 19,
     "metadata": {},
     "output_type": "execute_result"
    }
   ],
   "source": [
    "int(float_var)     # Converting an integer into a string"
   ]
  },
  {
   "cell_type": "code",
   "execution_count": 20,
   "metadata": {},
   "outputs": [],
   "source": [
    "t = True\n",
    "f = False"
   ]
  },
  {
   "cell_type": "code",
   "execution_count": 21,
   "metadata": {},
   "outputs": [
    {
     "data": {
      "text/plain": [
       "bool"
      ]
     },
     "execution_count": 21,
     "metadata": {},
     "output_type": "execute_result"
    }
   ],
   "source": [
    "type(t)"
   ]
  },
  {
   "cell_type": "code",
   "execution_count": 22,
   "metadata": {},
   "outputs": [
    {
     "data": {
      "text/plain": [
       "bool"
      ]
     },
     "execution_count": 22,
     "metadata": {},
     "output_type": "execute_result"
    }
   ],
   "source": [
    "type(f)"
   ]
  },
  {
   "cell_type": "code",
   "execution_count": 23,
   "metadata": {},
   "outputs": [
    {
     "name": "stdout",
     "output_type": "stream",
     "text": [
      "True\n",
      "False\n",
      "False\n"
     ]
    }
   ],
   "source": [
    "new_list = [1,'A',5.6]\n",
    "\n",
    "print(1 in new_list)         # Returns False because 1 is one of the elements of new_list\n",
    "print('B' in new_list)       # Returns False because 'B' is not one of the elements of new_list\n",
    "print(5.6 not in new_list)   # Returns False because 5.6 is one of the elements of new_list"
   ]
  },
  {
   "cell_type": "code",
   "execution_count": 24,
   "metadata": {},
   "outputs": [
    {
     "ename": "SyntaxError",
     "evalue": "invalid syntax (<ipython-input-24-08ada755b029>, line 1)",
     "output_type": "error",
     "traceback": [
      "\u001b[1;36m  File \u001b[1;32m\"<ipython-input-24-08ada755b029>\"\u001b[1;36m, line \u001b[1;32m1\u001b[0m\n\u001b[1;33m    if <Boolean expression>: # The if header contains 'if', a Boolean expression, ':'\u001b[0m\n\u001b[1;37m       ^\u001b[0m\n\u001b[1;31mSyntaxError\u001b[0m\u001b[1;31m:\u001b[0m invalid syntax\n"
     ]
    }
   ],
   "source": [
    "if <Boolean expression>: # The if header contains 'if', a Boolean expression, ':'\n",
    "    <code>\n",
    "    <code>               # This block of code comprises the if clause,\n",
    "    <code>               # which is only run if the Boolean is True\n",
    "else:\n",
    "    <code>\n",
    "    <code>               # This block of code comprises the else clause,\n",
    "    <code>               # which is only run if the Boolean is False"
   ]
  },
  {
   "cell_type": "code",
   "execution_count": 25,
   "metadata": {},
   "outputs": [
    {
     "name": "stdout",
     "output_type": "stream",
     "text": [
      "a is positive\n"
     ]
    }
   ],
   "source": [
    "a = 2\n",
    "if a > 0:\n",
    "    print('a is positive')\n",
    "else:\n",
    "    print('a is not positive')"
   ]
  },
  {
   "cell_type": "code",
   "execution_count": 26,
   "metadata": {},
   "outputs": [
    {
     "name": "stdout",
     "output_type": "stream",
     "text": [
      "a is positive\n"
     ]
    }
   ],
   "source": [
    "a = 2\n",
    "if a > 10:                         # This expression is False and so we move to the next condition...\n",
    "    print('a is greater than 10')\n",
    "    \n",
    "elif a > 0:                        # This expression is True and so we execute the indented code...\n",
    "    print('a is positive')         # This code is executed...\n",
    "    \n",
    "elif a == 2:                       # This is also True but will now be ignored...\n",
    "    print('a is two')              # As soon as one condition is found to be True,\n",
    "                                   #  all remaining 'else' and 'else if' will be ignored.\n",
    "else:\n",
    "    print('a is negative')"
   ]
  },
  {
   "cell_type": "code",
   "execution_count": 27,
   "metadata": {},
   "outputs": [
    {
     "ename": "IndentationError",
     "evalue": "unexpected indent (<ipython-input-27-6e34f59123b4>, line 2)",
     "output_type": "error",
     "traceback": [
      "\u001b[1;36m  File \u001b[1;32m\"<ipython-input-27-6e34f59123b4>\"\u001b[1;36m, line \u001b[1;32m2\u001b[0m\n\u001b[1;33m    print('then print this')\u001b[0m\n\u001b[1;37m    ^\u001b[0m\n\u001b[1;31mIndentationError\u001b[0m\u001b[1;31m:\u001b[0m unexpected indent\n"
     ]
    }
   ],
   "source": [
    "print('first print this')\n",
    "    print('then print this')"
   ]
  },
  {
   "cell_type": "code",
   "execution_count": 28,
   "metadata": {},
   "outputs": [
    {
     "ename": "SyntaxError",
     "evalue": "invalid syntax (<ipython-input-28-580e328fc24d>, line 1)",
     "output_type": "error",
     "traceback": [
      "\u001b[1;36m  File \u001b[1;32m\"<ipython-input-28-580e328fc24d>\"\u001b[1;36m, line \u001b[1;32m1\u001b[0m\n\u001b[1;33m    while <initial condition>:\u001b[0m\n\u001b[1;37m          ^\u001b[0m\n\u001b[1;31mSyntaxError\u001b[0m\u001b[1;31m:\u001b[0m invalid syntax\n"
     ]
    }
   ],
   "source": [
    "while <initial condition>:\n",
    "    <code>\n",
    "    <code>         # This block of code will repeat itself\n",
    "    <code>         #  for as long as the initial condition is true"
   ]
  },
  {
   "cell_type": "code",
   "execution_count": 29,
   "metadata": {},
   "outputs": [
    {
     "name": "stdout",
     "output_type": "stream",
     "text": [
      "1024\n"
     ]
    }
   ],
   "source": [
    "x = 2\n",
    "while x <= 1000:\n",
    "    x = x*2\n",
    "print(x)"
   ]
  },
  {
   "cell_type": "code",
   "execution_count": 30,
   "metadata": {},
   "outputs": [
    {
     "name": "stdout",
     "output_type": "stream",
     "text": [
      "1\n",
      "2\n",
      "3\n",
      "4\n",
      "5\n"
     ]
    }
   ],
   "source": [
    "new_list = [1, 2, 3, 4, 5]\n",
    "for i in new_list:\n",
    "    print(i)"
   ]
  },
  {
   "cell_type": "code",
   "execution_count": 31,
   "metadata": {},
   "outputs": [
    {
     "name": "stdout",
     "output_type": "stream",
     "text": [
      "1\n",
      "2\n",
      "3\n",
      "4\n",
      "5\n"
     ]
    }
   ],
   "source": [
    "for i in range(1,6):\n",
    "    print(i)"
   ]
  },
  {
   "cell_type": "code",
   "execution_count": 32,
   "metadata": {},
   "outputs": [
    {
     "ename": "SyntaxError",
     "evalue": "invalid syntax (<ipython-input-32-c268d11a2305>, line 1)",
     "output_type": "error",
     "traceback": [
      "\u001b[1;36m  File \u001b[1;32m\"<ipython-input-32-c268d11a2305>\"\u001b[1;36m, line \u001b[1;32m1\u001b[0m\n\u001b[1;33m    while <initial condition>:\u001b[0m\n\u001b[1;37m          ^\u001b[0m\n\u001b[1;31mSyntaxError\u001b[0m\u001b[1;31m:\u001b[0m invalid syntax\n"
     ]
    }
   ],
   "source": [
    "while <initial condition>:\n",
    "    <code>\n",
    "    <code>\n",
    "    if <condition>:\n",
    "        break\n",
    "    <code>\n",
    "    <code>\n",
    "    \n",
    "<code>   # This block of code will run\n",
    "<code>   #  either when the while loop is complete\n",
    "<code>   #  or as soon as the 'break' statement is reached"
   ]
  },
  {
   "cell_type": "code",
   "execution_count": 33,
   "metadata": {},
   "outputs": [
    {
     "name": "stdout",
     "output_type": "stream",
     "text": [
      "4\n",
      "8\n",
      "finish\n"
     ]
    }
   ],
   "source": [
    "x = 2\n",
    "while x <= 1000:\n",
    "    x = x * 2\n",
    "    if x == 16:\n",
    "        break\n",
    "    print(x)\n",
    "    \n",
    "print('finish')"
   ]
  },
  {
   "cell_type": "code",
   "execution_count": 34,
   "metadata": {},
   "outputs": [
    {
     "ename": "SyntaxError",
     "evalue": "invalid syntax (<ipython-input-34-5fe0173af86c>, line 1)",
     "output_type": "error",
     "traceback": [
      "\u001b[1;36m  File \u001b[1;32m\"<ipython-input-34-5fe0173af86c>\"\u001b[1;36m, line \u001b[1;32m1\u001b[0m\n\u001b[1;33m    for i in <list of values to iterate over>:\u001b[0m\n\u001b[1;37m             ^\u001b[0m\n\u001b[1;31mSyntaxError\u001b[0m\u001b[1;31m:\u001b[0m invalid syntax\n"
     ]
    }
   ],
   "source": [
    "for i in <list of values to iterate over>:\n",
    "    <code>\n",
    "    <code>\n",
    "    if <condition>:\n",
    "        continue\n",
    "    <code>\n",
    "    <code>"
   ]
  },
  {
   "cell_type": "code",
   "execution_count": 35,
   "metadata": {},
   "outputs": [
    {
     "name": "stdout",
     "output_type": "stream",
     "text": [
      "1\n",
      "not 2\n",
      "2\n",
      "3\n",
      "not 2\n",
      "4\n",
      "not 2\n"
     ]
    }
   ],
   "source": [
    "for i in [1,2,3,4]:\n",
    "    print(i)\n",
    "    if i == 2:\n",
    "        continue\n",
    "    print('not 2')"
   ]
  },
  {
   "cell_type": "code",
   "execution_count": 36,
   "metadata": {},
   "outputs": [],
   "source": [
    "new_string = 'abcdefg'\n",
    "new_list   = ['a','b','c','d','e','f','g']\n",
    "new_tuple  = ('a','b','c','d','e','f','g')"
   ]
  },
  {
   "cell_type": "code",
   "execution_count": 37,
   "metadata": {},
   "outputs": [],
   "source": [
    "tuple_3 = (1,2,3)\n",
    "tuple_1 = (1,)\n",
    "tuple_0 = ()"
   ]
  },
  {
   "cell_type": "code",
   "execution_count": 38,
   "metadata": {},
   "outputs": [
    {
     "name": "stdout",
     "output_type": "stream",
     "text": [
      "c\n",
      "c\n",
      "c\n"
     ]
    }
   ],
   "source": [
    "print( new_string[2] ) # Element '2' is the same as\n",
    "print( new_list[2] )   #  the third element\n",
    "print( new_tuple[2] )  #  in Pythonic numbering"
   ]
  },
  {
   "cell_type": "code",
   "execution_count": 39,
   "metadata": {},
   "outputs": [
    {
     "name": "stdout",
     "output_type": "stream",
     "text": [
      "['a', 'b', 'z', 'd', 'e', 'f', 'g']\n"
     ]
    }
   ],
   "source": [
    "new_list[2] = 'z'\n",
    "print(new_list)"
   ]
  },
  {
   "cell_type": "code",
   "execution_count": 40,
   "metadata": {},
   "outputs": [
    {
     "ename": "TypeError",
     "evalue": "'tuple' object does not support item assignment",
     "output_type": "error",
     "traceback": [
      "\u001b[1;31m---------------------------------------------------------------------------\u001b[0m",
      "\u001b[1;31mTypeError\u001b[0m                                 Traceback (most recent call last)",
      "\u001b[1;32m<ipython-input-40-38dbae2de346>\u001b[0m in \u001b[0;36m<module>\u001b[1;34m\u001b[0m\n\u001b[1;32m----> 1\u001b[1;33m \u001b[0mnew_tuple\u001b[0m\u001b[1;33m[\u001b[0m\u001b[1;36m2\u001b[0m\u001b[1;33m]\u001b[0m \u001b[1;33m=\u001b[0m \u001b[1;34m'z'\u001b[0m\u001b[1;33m\u001b[0m\u001b[1;33m\u001b[0m\u001b[0m\n\u001b[0m\u001b[0;32m      2\u001b[0m \u001b[0mprint\u001b[0m\u001b[1;33m(\u001b[0m\u001b[0mnew_tuple\u001b[0m\u001b[1;33m)\u001b[0m\u001b[1;33m\u001b[0m\u001b[1;33m\u001b[0m\u001b[0m\n",
      "\u001b[1;31mTypeError\u001b[0m: 'tuple' object does not support item assignment"
     ]
    }
   ],
   "source": [
    "new_tuple[2] = 'z'\n",
    "print(new_tuple)"
   ]
  },
  {
   "cell_type": "code",
   "execution_count": 41,
   "metadata": {},
   "outputs": [
    {
     "name": "stdout",
     "output_type": "stream",
     "text": [
      "['a', 'b', 'z', 'd', 'e', 'f', 'g']\n",
      "['z', 'd', 'e']\n"
     ]
    }
   ],
   "source": [
    "print(new_list)\n",
    "slice_of_list = new_list[-5:-2]\n",
    "print(slice_of_list)"
   ]
  },
  {
   "cell_type": "code",
   "execution_count": 42,
   "metadata": {},
   "outputs": [
    {
     "name": "stdout",
     "output_type": "stream",
     "text": [
      "('a', 'b', 'c', 'd', 'e', 'f', 'g')\n",
      "('a', 'b', 'c', 'd')\n"
     ]
    }
   ],
   "source": [
    "print(new_tuple)\n",
    "slice_of_tuple = new_tuple[:4]\n",
    "print(slice_of_tuple)"
   ]
  },
  {
   "cell_type": "code",
   "execution_count": 53,
   "metadata": {},
   "outputs": [],
   "source": [
    "new_list.append('egg')"
   ]
  },
  {
   "cell_type": "code",
   "execution_count": 54,
   "metadata": {},
   "outputs": [
    {
     "data": {
      "text/plain": [
       "['a', 'b', 'z', 'd', 'e', 'f', 'g', ['gjl'], 'egg']"
      ]
     },
     "execution_count": 54,
     "metadata": {},
     "output_type": "execute_result"
    }
   ],
   "source": [
    "new_list"
   ]
  },
  {
   "cell_type": "code",
   "execution_count": null,
   "metadata": {},
   "outputs": [],
   "source": [
    "def new_function(arg_1, arg_2, arg_3 = 1):\n",
    "    \n",
    "    <code>        # This code block will\n",
    "    <code>        #  repeat with new\n",
    "    <code>        #  values each time\n",
    "    <code>        #  the function is called\n",
    "    \n",
    "    return(x)     # The function will return x"
   ]
  },
  {
   "cell_type": "code",
   "execution_count": 1,
   "metadata": {},
   "outputs": [
    {
     "name": "stdout",
     "output_type": "stream",
     "text": [
      "2593.742460100001\n",
      "1331.0\n"
     ]
    }
   ],
   "source": [
    "def compount_interest(initial_amount, interest_rate, time_period = 10):\n",
    "    \n",
    "    new_amount = initial_amount\n",
    "    for i in range(0,time_period):\n",
    "        new_amount *= (1+interest_rate)\n",
    "        \n",
    "    return(new_amount)\n",
    "\n",
    "calc = compount_interest(1000, 0.1)\n",
    "print(calc)\n",
    "\n",
    "calc = compount_interest(1000, 0.1, 3)\n",
    "print(calc)"
   ]
  },
  {
   "cell_type": "code",
   "execution_count": null,
   "metadata": {},
   "outputs": [],
   "source": [
    "hash(<input>)"
   ]
  },
  {
   "cell_type": "code",
   "execution_count": null,
   "metadata": {},
   "outputs": [],
   "source": [
    "hash(\"corndel\")"
   ]
  },
  {
   "cell_type": "code",
   "execution_count": null,
   "metadata": {},
   "outputs": [],
   "source": [
    "<dictionary_name> = dict(<key1>=<value1>, <key2>=<value2>,…,<keyi>=<valuei>)"
   ]
  },
  {
   "cell_type": "code",
   "execution_count": null,
   "metadata": {},
   "outputs": [],
   "source": [
    "student = dict(Name=\"John\", Age=27, Gender=\"M\", GPA=4.0)\n",
    "print(student)"
   ]
  },
  {
   "cell_type": "code",
   "execution_count": null,
   "metadata": {},
   "outputs": [],
   "source": [
    "<dictionary_name> = {<key1>:<value1>, <key2>:<value2>,…,<keyi>:<valuei>} "
   ]
  },
  {
   "cell_type": "code",
   "execution_count": null,
   "metadata": {},
   "outputs": [],
   "source": [
    "student = {\"Name\": \"John\", \"Age\": 27, \"Gender\": \"M\", \"GPA\":4.0}\n",
    "print(student)"
   ]
  },
  {
   "cell_type": "code",
   "execution_count": null,
   "metadata": {},
   "outputs": [],
   "source": [
    "student[\"Name\"]"
   ]
  },
  {
   "cell_type": "code",
   "execution_count": null,
   "metadata": {},
   "outputs": [],
   "source": [
    "student.get(\"Name\")"
   ]
  },
  {
   "cell_type": "code",
   "execution_count": null,
   "metadata": {},
   "outputs": [],
   "source": [
    "len(<dictionary_name>)"
   ]
  },
  {
   "cell_type": "code",
   "execution_count": null,
   "metadata": {},
   "outputs": [],
   "source": [
    "len(student)"
   ]
  },
  {
   "cell_type": "code",
   "execution_count": null,
   "metadata": {},
   "outputs": [],
   "source": [
    "max(student)"
   ]
  },
  {
   "cell_type": "code",
   "execution_count": null,
   "metadata": {},
   "outputs": [],
   "source": [
    "test_dict = {\"E\": 3, \"B\": 27, \"C\": 500, \"D\":4.0}"
   ]
  },
  {
   "cell_type": "code",
   "execution_count": null,
   "metadata": {},
   "outputs": [],
   "source": [
    "test_dict = {\"E\": 3, \"B\": 27, \"C\": 500, \"D\":4.0}\n",
    "print(test_dict)"
   ]
  },
  {
   "cell_type": "code",
   "execution_count": null,
   "metadata": {},
   "outputs": [],
   "source": [
    "min(test_dict)"
   ]
  },
  {
   "cell_type": "code",
   "execution_count": null,
   "metadata": {},
   "outputs": [],
   "source": [
    "max(test_dict)"
   ]
  },
  {
   "cell_type": "code",
   "execution_count": null,
   "metadata": {},
   "outputs": [],
   "source": [
    "min(test_dict.keys())"
   ]
  },
  {
   "cell_type": "code",
   "execution_count": null,
   "metadata": {},
   "outputs": [],
   "source": [
    "max(test_dict.keys())"
   ]
  },
  {
   "cell_type": "code",
   "execution_count": null,
   "metadata": {},
   "outputs": [],
   "source": [
    "min(test_dict.values())"
   ]
  },
  {
   "cell_type": "code",
   "execution_count": null,
   "metadata": {},
   "outputs": [],
   "source": [
    "max(test_dict.values())"
   ]
  },
  {
   "cell_type": "code",
   "execution_count": null,
   "metadata": {},
   "outputs": [],
   "source": [
    "student = {\"Name\": \"John\", \"Age\": 27, \"Gender\": \"M\", \"GPA\":4.0}"
   ]
  },
  {
   "cell_type": "code",
   "execution_count": null,
   "metadata": {},
   "outputs": [],
   "source": [
    "\"Name\" in student"
   ]
  },
  {
   "cell_type": "code",
   "execution_count": null,
   "metadata": {},
   "outputs": [],
   "source": [
    "key_list = list(student.keys())\n",
    "print(key_list)"
   ]
  },
  {
   "cell_type": "code",
   "execution_count": null,
   "metadata": {},
   "outputs": [],
   "source": [
    "vals_list = list(student.values())\n",
    "print(vals_list)"
   ]
  },
  {
   "cell_type": "code",
   "execution_count": null,
   "metadata": {},
   "outputs": [],
   "source": [
    "def print_kv_pairs(dictionary):\n",
    "    for k, v in student.items():\n",
    "        print(k, v)\n",
    "        \n",
    "print_kv_pairs(student)"
   ]
  },
  {
   "cell_type": "code",
   "execution_count": null,
   "metadata": {},
   "outputs": [],
   "source": [
    "\n",
    "def list_out_students_scores(dictionary):\n",
    "    for key, val in dictionary.items():\n",
    "        print(f'I am {key} and my grade is {val}')#cycles through key and value\n",
    "    \n",
    "all_students = {}\n",
    "\n",
    "while True:\n",
    "    student_name = input(\"Enter student name: \")\n",
    "    student_score = input(\"Enter student test score: \")\n",
    "    all_students[student_name] = student_score\n",
    "    \n",
    "    another = input(\"Do you want to add another student? (y/n)\")\n",
    "    \n",
    "    if another in ('y','Y'):\n",
    "        continue\n",
    "    else:\n",
    "        break\n",
    "        "
   ]
  },
  {
   "cell_type": "code",
   "execution_count": null,
   "metadata": {},
   "outputs": [],
   "source": [
    "text = ['apple','red','apple','red','red','pear'] #some text\n",
    "\n",
    "counter = {} #initialise the dictionary\n",
    "\n",
    "for word in text: #for all the words in our text\n",
    "    if word not in counter.keys(): #if the key for that word does not exist:\n",
    "        counter[word] = 1 #set value to 1\n",
    "    else: #if the key for that word already exists:\n",
    "        counter[word] += 1 #add 1 to the value\n",
    "        \n",
    "print(counter)"
   ]
  },
  {
   "cell_type": "code",
   "execution_count": null,
   "metadata": {},
   "outputs": [],
   "source": [
    "import os"
   ]
  },
  {
   "cell_type": "code",
   "execution_count": null,
   "metadata": {},
   "outputs": [],
   "source": [
    "text_file = open(\"txt_read.txt\", \"r\")"
   ]
  },
  {
   "cell_type": "code",
   "execution_count": null,
   "metadata": {},
   "outputs": [],
   "source": [
    "text_file.close()"
   ]
  },
  {
   "cell_type": "code",
   "execution_count": null,
   "metadata": {},
   "outputs": [],
   "source": [
    "with open(\"txt_read.txt\",\"r+\") as file: \n",
    "    print(file.read()) "
   ]
  },
  {
   "cell_type": "code",
   "execution_count": null,
   "metadata": {},
   "outputs": [],
   "source": [
    "with open(\"write_to_this.txt\", \"r+\") as file: \n",
    "    file.write(\"I'm writing this to my write_to_this.txt file!\")"
   ]
  },
  {
   "cell_type": "code",
   "execution_count": null,
   "metadata": {},
   "outputs": [],
   "source": [
    "text_file = open(\"txt_read.txt\", \"r\")\n",
    "whole_file = text_file.read()\n",
    "text_file.close()\n",
    "print(whole_file) "
   ]
  },
  {
   "cell_type": "code",
   "execution_count": null,
   "metadata": {},
   "outputs": [],
   "source": [
    "text_file = open(\"txt_read.txt\", \"r\") \n",
    "first_10_chars = text_file.read(10) \n",
    "print(first_10_chars) "
   ]
  },
  {
   "cell_type": "code",
   "execution_count": null,
   "metadata": {},
   "outputs": [],
   "source": [
    "text_file = open(\"txt_read.txt\", \"r\")\n",
    "\n",
    "for line in text_file: \n",
    "    print(line)\n",
    "\n",
    "text_file.close()"
   ]
  },
  {
   "cell_type": "code",
   "execution_count": null,
   "metadata": {},
   "outputs": [],
   "source": [
    "import csv\n",
    "\n",
    "with open(\"csv_read.csv\",'r') as file: \n",
    "    csv_reader = csv.reader(file, delimiter=',')\n",
    "    for line in csv_reader:\n",
    "        print(line)\n",
    "\n",
    "text_file.close()"
   ]
  },
  {
   "cell_type": "code",
   "execution_count": null,
   "metadata": {},
   "outputs": [],
   "source": [
    "with open(\"csv_read.csv\", \"r\") as file:\n",
    "    csv_reader = csv.DictReader(file)\n",
    "    for line in csv_reader:\n",
    "        print(line['name'],line['department'],line['birthday month'])"
   ]
  },
  {
   "cell_type": "code",
   "execution_count": null,
   "metadata": {},
   "outputs": [],
   "source": [
    "import pickle \n",
    "\n",
    "animal_colour = {\"lion\":\"yellow\", \"bear\":\"brown\", \"fish\":\"blue\"} \n",
    "file = open(\"animal_colour.pkl\",\"wb\") #creates .pkl file called animal_colour to write pickle to\n",
    "pickle.dump(animal_colour, file) \n",
    "file.close()"
   ]
  },
  {
   "cell_type": "code",
   "execution_count": null,
   "metadata": {},
   "outputs": [],
   "source": [
    "file = open(\"animal_colour.pkl\",'rb') \n",
    "original_dict = pickle.load(file) \n",
    "file.close() \n",
    "\n",
    "print(original_dict)"
   ]
  }
 ],
 "metadata": {
  "kernelspec": {
   "display_name": "Python 3",
   "language": "python",
   "name": "python3"
  },
  "language_info": {
   "codemirror_mode": {
    "name": "ipython",
    "version": 3
   },
   "file_extension": ".py",
   "mimetype": "text/x-python",
   "name": "python",
   "nbconvert_exporter": "python",
   "pygments_lexer": "ipython3",
   "version": "3.7.3"
  }
 },
 "nbformat": 4,
 "nbformat_minor": 2
}
