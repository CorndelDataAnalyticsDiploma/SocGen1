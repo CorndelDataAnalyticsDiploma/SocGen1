{
 "cells": [
  {
   "cell_type": "code",
   "execution_count": null,
   "metadata": {
    "collapsed": true
   },
   "outputs": [],
   "source": [
    "## INTRO\n",
    "## WELCOME TO THE FIRST JUPYTER NOTEBOOK OF THE CORNDEL ANALYTICS DIPLOMA\n",
    "\n",
    "# First let's take the time to familiarise yourself with the layout...\n",
    "#  - a Jupyter Notebook is divided into cells (boxes)\n",
    "#  - in this workbook, we have titled cells\n",
    "#  - for example, the title of this cell is \"INTRO\"\n",
    "#  - at the top are buttons that are used to:\n",
    "#      - save progress;\n",
    "#      - add a new cell;\n",
    "#      - cut/copy/paste cells;\n",
    "#      - move cells up/down in the running order;\n",
    "#      - run code;\n",
    "#      - stop code;\n",
    "#      - resart the kernel; and\n",
    "#      - choose whether the cell should be used as markdown or to write code.\n",
    "\n",
    "# The current cell is set up for writing code but we have used it exclusively for comments\n",
    "# Comments are lines of text that don't actually do anything\n",
    "# We use the '#' symbol to indicate to the machine when we want text to be a comment\n",
    "\n",
    "# The next cell is set up as 'markdown'\n",
    "# This means that it looks like a heading rather than a block of code"
   ]
  },
  {
   "cell_type": "markdown",
   "metadata": {},
   "source": [
    "## Data Types"
   ]
  },
  {
   "cell_type": "code",
   "execution_count": null,
   "metadata": {},
   "outputs": [],
   "source": [
    "## ASSIGNING A VARIABLE\n",
    "# Let's create a new variable and set its value as 1\n",
    "my_first_variable = 1"
   ]
  },
  {
   "cell_type": "code",
   "execution_count": null,
   "metadata": {},
   "outputs": [],
   "source": [
    "## ID FUNCTION\n",
    "# The id() function tells me what ID Python is using to refer to this variable\n",
    "id(my_first_variable)"
   ]
  },
  {
   "cell_type": "code",
   "execution_count": null,
   "metadata": {},
   "outputs": [],
   "source": [
    "## TYPE FUNCTION\n",
    "# The type() function tells me what data type it contains\n",
    "type(my_first_variable)"
   ]
  },
  {
   "cell_type": "code",
   "execution_count": null,
   "metadata": {
    "collapsed": true
   },
   "outputs": [],
   "source": [
    "## THE DATA TYPES\n",
    "# There are 6 main data types that we use in Python:\n",
    "\n",
    "# numbers:\n",
    "a = 4\n",
    "a = 5.8\n",
    "\n",
    "# strings\n",
    "a = 'a string using single quotes'\n",
    "a = \"a string using double quotes\"\n",
    "a = \"\"\"a sting using\n",
    "       three double\n",
    "       quotes\"\"\"\n",
    "\n",
    "# lists\n",
    "a = [4,5.8,'a string using single quotes']\n",
    "\n",
    "# dictionaries\n",
    "a = {'key1':25, 'key2':8}\n",
    "a = {'key1':'large', 'key2':'small'}\n",
    "\n",
    "# tuples\n",
    "a = (4,5.8,'a string using single quotes')\n",
    "\n",
    "# files (the code below doesn't work because the file does not exist)\n",
    "# a = open('test.csv',r')"
   ]
  },
  {
   "cell_type": "code",
   "execution_count": null,
   "metadata": {
    "collapsed": true
   },
   "outputs": [],
   "source": [
    "## TASKS\n",
    "\n",
    "# 1. Create a different variable of each type\n",
    "\n",
    "# 2. Reassign a different value of a different data type to an existing variable\n",
    "\n",
    "# 3. Assign one variable to equal another variable\n",
    "\n",
    "# 4. At each stage use the id and type functions to check the results\n",
    "\n",
    "# 5. Try to change a single value within a list to a different value\n",
    "\n",
    "# 6. Try to change a single value within a tuple to a different value"
   ]
  },
  {
   "cell_type": "markdown",
   "metadata": {},
   "source": [
    "###### 45 mins"
   ]
  },
  {
   "cell_type": "markdown",
   "metadata": {
    "collapsed": true
   },
   "source": [
    "## Expressions & Statements"
   ]
  },
  {
   "cell_type": "code",
   "execution_count": null,
   "metadata": {},
   "outputs": [],
   "source": [
    "## EXPRESSIONS & STATEMENTS\n",
    "# An expression is a combination of values, variables and operators\n",
    "#  - e.g. \"6 + 8\" is an expression\n",
    "# A statement, or command, is a unit of code that can be executed by the Python interpreter\n",
    "#  - e.g. \"a = 6 + 8\" is a statement\n",
    "\n",
    "# Mathematical operators:\n",
    "# +, -, *, /, //, %\n",
    "a = 6 + 8\n",
    "b = a / 2\n",
    "c = b % 5\n",
    "d = a // c\n",
    "\n",
    "# String operators:\n",
    "# +, *\n",
    "e = 'E'\n",
    "f = 'F'\n",
    "g = e + f\n",
    "h = f * 3\n",
    "i = f * a\n",
    "\n",
    "# Comparison operators:\n",
    "# ==, !=, <, >, <=, >=\n",
    "a == b + 7\n",
    "a < c\n",
    "d >= a\n",
    "g == 'FE'\n",
    "\n",
    "# Logical operators\n",
    "# and, &, or, |, not\n",
    "(a == b + 7) and (3 == 6 / 2)\n",
    "(a == b + 7) & (3 == 6 / 2)\n",
    "(a == b + 7) or (g == 'FE')\n",
    "(a == b + 7) | (g == 'FE')\n",
    "not (g == 'FE')"
   ]
  },
  {
   "cell_type": "code",
   "execution_count": null,
   "metadata": {
    "collapsed": true
   },
   "outputs": [],
   "source": [
    "## TASK\n",
    "\n",
    "# 1. Run some of the expressions and statements above, what does each operator do?\n",
    "\n",
    "# Note that Jupyter Notebook will run if given just an expression\n",
    "# But it will only display the value of the last expression listed"
   ]
  },
  {
   "cell_type": "markdown",
   "metadata": {},
   "source": [
    "###### 60 mins"
   ]
  },
  {
   "cell_type": "markdown",
   "metadata": {},
   "source": [
    "## Some simple methods and functions"
   ]
  },
  {
   "cell_type": "code",
   "execution_count": null,
   "metadata": {
    "collapsed": true
   },
   "outputs": [],
   "source": [
    "## PRINT\n",
    "# The print() function outputs a value to be displayed within the Jupyter Notebook\n",
    "\n",
    "print('This is some text')\n",
    "a = 'This is some more text'\n",
    "print(a)"
   ]
  },
  {
   "cell_type": "code",
   "execution_count": null,
   "metadata": {},
   "outputs": [],
   "source": [
    "## INDEXING\n",
    "# We can refer to the Nth element in a list or tuple by using square brackets []\n",
    "\n",
    "my_list = [4,5.8,'a string using single quotes']\n",
    "print(my_list[0])\n",
    "print(my_list[1])\n",
    "print(my_list[0:2])\n",
    "print(my_list[0:3])\n",
    "print(my_list[2][2:8])"
   ]
  },
  {
   "cell_type": "code",
   "execution_count": null,
   "metadata": {},
   "outputs": [],
   "source": [
    "## CHANGING DATA TYPE\n",
    "# We can change a variable from one type to another using the following functions:\n",
    "#  - str()\n",
    "#  - float()\n",
    "#  - int()\n",
    "\n",
    "# For example:\n",
    "a = str(1001)\n",
    "print(a*2)"
   ]
  },
  {
   "cell_type": "code",
   "execution_count": null,
   "metadata": {
    "collapsed": true
   },
   "outputs": [],
   "source": [
    "## TASKS\n",
    "\n",
    "# 1. Run some of the expressions and statements above\n",
    "\n",
    "# 2. Explore how changing the arguments affects the result\n",
    "\n",
    "# 3. What happens if we use the str() function on a list?\n",
    "\n",
    "# 4. Find some values for which the int() and float() functions do not work\n",
    "\n",
    "# 5. Create a variable that contains all the text in this string, what is the 45th character?"
   ]
  },
  {
   "cell_type": "markdown",
   "metadata": {},
   "source": [
    "###### 75 mins"
   ]
  },
  {
   "cell_type": "markdown",
   "metadata": {},
   "source": [
    "## Pseudo code"
   ]
  },
  {
   "cell_type": "code",
   "execution_count": null,
   "metadata": {
    "collapsed": true
   },
   "outputs": [],
   "source": [
    "## PSEUDO CODE\n",
    "# Pseudo code is a false code or a representation of code which can be\n",
    "#   understood by even a layman with some school level programming knowledge\n",
    "\n",
    "## -------------------------------------------------------------------- ##\n",
    "\n",
    "# CODE 1\n",
    "Set N equal to 12\n",
    "Set A equal to 1\n",
    "Set I equal to 1\n",
    "\n",
    "For as long as I is less than or equal to N, do the following steps:\n",
    "    Set A equal to itself multiplied by I\n",
    "    Increase the value of I by 1\n",
    "    \n",
    "Print the value of A\n",
    "\n",
    "## -------------------------------------------------------------------- ##\n",
    "\n",
    "# CODE 2\n",
    "\n",
    "Whenever he keyword \"CompInt\" is written, complete the following steps for three inputs, B, I, and T:\n",
    "\n",
    "    Set MULTIPLIER equal to 1 plus I\n",
    "    Set TOTAL_MULTIPLIER equal to MULTIPLIER to the power of T\n",
    "    Set FINAL_OUTPUT equal to B multiplied by TOTAL_MULTIPLIER\n",
    "    \n",
    "    Print the value of FINAL_OUTPUT \n",
    "\n",
    "CompInt for B = 100, I = 10, T = 3\n",
    "\n",
    "## -------------------------------------------------------------------- ##\n",
    "\n",
    "# CODE 3\n",
    "Set START equal to 11\n",
    "Set END equal to 25\n",
    "\n",
    "For all integers (I) between START and END, inclusive, complete the following steps:\n",
    "\n",
    "    If the value I is greater than 1, then do the following steps:\n",
    "    \n",
    "        For all integers (J) less than I, complete the following steps:\n",
    "            If I is divisible by J then continue\n",
    "            Otherwise stop and do not follow any more steps\n",
    "\n",
    "        Print the value of I\n",
    "\n",
    "## -------------------------------------------------------------------- ##"
   ]
  },
  {
   "cell_type": "code",
   "execution_count": null,
   "metadata": {
    "collapsed": true
   },
   "outputs": [],
   "source": [
    "## TASK\n",
    "\n",
    "# 1. Look at the three pieces of pseudo-code above, what does each do?"
   ]
  },
  {
   "cell_type": "markdown",
   "metadata": {},
   "source": [
    "###### 105 mins"
   ]
  },
  {
   "cell_type": "markdown",
   "metadata": {
    "collapsed": true
   },
   "source": [
    "## IF statements and FOR loops"
   ]
  },
  {
   "cell_type": "code",
   "execution_count": null,
   "metadata": {},
   "outputs": [],
   "source": [
    "## IF STATEMENTS\n",
    "# If statements are used to divide code into separate blocks\n",
    "# which are only run f a specified condition is True\n",
    "\n",
    "test_integer = 169\n",
    "test_divisor = 13\n",
    "\n",
    "if test_integer % test_divisor == 0:\n",
    "    print(str(test_integer)+' divides '+str(test_divisor))\n",
    "\n",
    "elif test_integer % 11 == 0:\n",
    "    print(str(test_integer)+' divides 11')\n",
    "    \n",
    "else:\n",
    "    print(str(test_integer)+' does not divide either 11 or '+str(test_divisor))\n",
    "\n",
    "# Note who we used indentation (the tab key) to diffentiate\n",
    "# blocks of code that are dependent on an IF statement"
   ]
  },
  {
   "cell_type": "code",
   "execution_count": null,
   "metadata": {},
   "outputs": [],
   "source": [
    "## FOR STATEMENTS\n",
    "# For statements are used to loop through values and perform a block of code\n",
    "# sequentially for each value\n",
    "\n",
    "test_string = \"The for loop below will print each letter of this string individually\"\n",
    "\n",
    "for i in range(0,len(test_string)):\n",
    "    print(test_string[i])\n",
    "\n",
    "# Note who we used indentation (the tab key) to diffentiate\n",
    "# blocks of code that are executed within a FOR loop"
   ]
  },
  {
   "cell_type": "markdown",
   "metadata": {},
   "source": [
    "## Exercises"
   ]
  },
  {
   "cell_type": "code",
   "execution_count": null,
   "metadata": {
    "collapsed": true
   },
   "outputs": [],
   "source": [
    "## TASKS\n",
    "\n",
    "# 1. Write some code which checks the string \"String\" starts\n",
    "#    with a specfied letter and prints \"True\" if it does\n",
    "\n",
    "# 2. Write some code which loops through and prints every even number\n",
    "#    between two specified numbers (you do not need an IF statement)\n",
    "\n",
    "# 3. Convert the three orginal pieces of pseudo-code into Python code\n",
    "\n",
    "# 4. Write some code which checks whether a string is a palindrome\n",
    "#    Palindrome means that it reads the same forwards as it does backwards\n",
    "\n",
    "# 5. The largest palindromic number made from multiplying two 2-digit numbers is 9009 (= 91 x 99)\n",
    "#    Find the largest palindromic number made from multiplying two 3-digit numbers\n",
    "\n",
    "# 6. Write code which randomly simulates a knock-out tournament between 8 participants\n",
    "#    you might need to import the random package, as shown below"
   ]
  },
  {
   "cell_type": "markdown",
   "metadata": {},
   "source": [
    "###### 180 mins"
   ]
  },
  {
   "cell_type": "markdown",
   "metadata": {},
   "source": [
    "## Importing a package"
   ]
  },
  {
   "cell_type": "code",
   "execution_count": 9,
   "metadata": {},
   "outputs": [
    {
     "name": "stdout",
     "output_type": "stream",
     "text": [
      "5\n",
      "7\n",
      "E\n",
      "0.2730325130574103\n"
     ]
    }
   ],
   "source": [
    "## IMPORT RANDOM\n",
    "# Python has many in-built packages for particular purposes\n",
    "# But these packages are not automatically available when you start Python\n",
    "# You need to import the package first\n",
    "\n",
    "# The code below imports a package called \"random\"\n",
    "import random\n",
    "\n",
    "# The random package has several functions including the following:\n",
    "a = random.randint(1, 100)\n",
    "b = random.randrange(1, 9, step = 2)\n",
    "c = random.choice(['A','E','I','O','U'])\n",
    "d = random.random()\n",
    "\n",
    "print(a)\n",
    "print(b)\n",
    "print(c)\n",
    "print(d)"
   ]
  },
  {
   "cell_type": "code",
   "execution_count": 5,
   "metadata": {},
   "outputs": [
    {
     "name": "stdout",
     "output_type": "stream",
     "text": [
      "0.7237903163141205\n"
     ]
    }
   ],
   "source": [
    "# We can also import the package with an alias to simplify the code:\n",
    "import random as rd\n",
    "print(rd.random())"
   ]
  },
  {
   "cell_type": "code",
   "execution_count": null,
   "metadata": {
    "collapsed": true
   },
   "outputs": [],
   "source": [
    "## TASKS\n",
    "\n",
    "# 1. Work out what each of the random functions listed above does\n",
    "# 2. Which might be useful when simulating a knock-out tournament"
   ]
  }
 ],
 "metadata": {
  "kernelspec": {
   "display_name": "Python 3",
   "language": "python",
   "name": "python3"
  },
  "language_info": {
   "codemirror_mode": {
    "name": "ipython",
    "version": 3
   },
   "file_extension": ".py",
   "mimetype": "text/x-python",
   "name": "python",
   "nbconvert_exporter": "python",
   "pygments_lexer": "ipython3",
   "version": "3.6.6"
  }
 },
 "nbformat": 4,
 "nbformat_minor": 2
}
